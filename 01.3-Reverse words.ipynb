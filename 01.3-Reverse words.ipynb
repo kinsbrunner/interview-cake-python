{
 "cells": [
  {
   "cell_type": "code",
   "execution_count": 37,
   "metadata": {},
   "outputs": [
    {
     "name": "stdout",
     "output_type": "stream",
     "text": [
      "steal pound cake example\n"
     ]
    }
   ],
   "source": [
    "message = [ 'e', 'x', 'a', 'm', 'p', 'l', 'e', ' ',\n",
    "            'c', 'a', 'k', 'e', ' ',\n",
    "            'p', 'o', 'u', 'n', 'd', ' ',\n",
    "            's', 't', 'e', 'a', 'l' ]\n",
    "\n",
    "reverse_words(message)\n",
    "\n",
    "# Prints: 'steal pound cake'\n",
    "print(''.join(message))\n",
    "\n",
    "def reverse_words(message):\n",
    "    # First we reverse all the characters in the entire message\n",
    "    reverse_characters(message, 0, len(message)-1)\n",
    "\n",
    "    # This gives us the right word order\n",
    "    # but with each word backward\n",
    "\n",
    "    # Now we'll make the words forward again\n",
    "    # by reversing each word's characters\n",
    "\n",
    "    # We hold the index of the *start* of the current word\n",
    "    # as we look for the *end* of the current word\n",
    "    current_word_start_index = 0\n",
    "\n",
    "    for i in range(len(message) + 1):\n",
    "        # Found the end of the current word!\n",
    "        if (i == len(message)) or (message[i] == ' '):\n",
    "            reverse_characters(message, current_word_start_index, i - 1)\n",
    "            # If we haven't exhausted the message our\n",
    "            # next word's start is one character ahead\n",
    "            current_word_start_index = i + 1\n",
    "\n",
    "\n",
    "def reverse_characters(message, left_index, right_index):\n",
    "    # Walk towards the middle, from both sides\n",
    "    while left_index < right_index:\n",
    "        # Swap the left char and right char\n",
    "        message[left_index], message[right_index] = message[right_index], message[left_index]\n",
    "        left_index  += 1\n",
    "        right_index -= 1"
   ]
  }
 ],
 "metadata": {
  "interpreter": {
   "hash": "aee8b7b246df8f9039afb4144a1f6fd8d2ca17a180786b69acc140d282b71a49"
  },
  "kernelspec": {
   "display_name": "Python 3.10.4 64-bit",
   "language": "python",
   "name": "python3"
  },
  "language_info": {
   "codemirror_mode": {
    "name": "ipython",
    "version": 3
   },
   "file_extension": ".py",
   "mimetype": "text/x-python",
   "name": "python",
   "nbconvert_exporter": "python",
   "pygments_lexer": "ipython3",
   "version": "3.10.4"
  },
  "orig_nbformat": 4
 },
 "nbformat": 4,
 "nbformat_minor": 2
}
