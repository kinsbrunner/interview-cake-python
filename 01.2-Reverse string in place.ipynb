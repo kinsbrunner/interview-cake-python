{
 "cells": [
  {
   "cell_type": "code",
   "execution_count": 9,
   "metadata": {},
   "outputs": [
    {
     "name": "stdout",
     "output_type": "stream",
     "text": [
      "ordnajela\n",
      "dcba\n",
      "edcba\n",
      "ordnajela\n",
      "dcba\n",
      "edcba\n",
      "rennurbsnik\n"
     ]
    }
   ],
   "source": [
    "def reverse_word(word):\n",
    "    reversed = list(word)\n",
    "    start_idx = 0\n",
    "    end_idx = len(reversed) - 1\n",
    "    aux = \"\"\n",
    "\n",
    "    while start_idx < end_idx:\n",
    "        aux = reversed[start_idx]\n",
    "        reversed[start_idx] = reversed[end_idx]\n",
    "        reversed[end_idx] = aux\n",
    "        start_idx += 1\n",
    "        end_idx -= 1\n",
    "\n",
    "    return ''.join(reversed)\n",
    "\n",
    "def reverse_word_slicing(word):\n",
    "    reverse = list(word)\n",
    "    return(''.join(reverse[len(reverse)::-1]))\n",
    "\n",
    "print(reverse_word(\"alejandro\"))\n",
    "print(reverse_word(\"abcd\"))\n",
    "print(reverse_word(\"abcde\"))\n",
    "\n",
    "print(reverse_word_slicing(\"alejandro\"))\n",
    "print(reverse_word_slicing(\"abcd\"))\n",
    "print(reverse_word_slicing(\"abcde\"))\n",
    "\n",
    "print(''.join(reversed(\"kinsbrunner\")))"
   ]
  }
 ],
 "metadata": {
  "interpreter": {
   "hash": "aee8b7b246df8f9039afb4144a1f6fd8d2ca17a180786b69acc140d282b71a49"
  },
  "kernelspec": {
   "display_name": "Python 3.10.4 64-bit",
   "language": "python",
   "name": "python3"
  },
  "language_info": {
   "codemirror_mode": {
    "name": "ipython",
    "version": 3
   },
   "file_extension": ".py",
   "mimetype": "text/x-python",
   "name": "python",
   "nbconvert_exporter": "python",
   "pygments_lexer": "ipython3",
   "version": "3.10.4"
  },
  "orig_nbformat": 4
 },
 "nbformat": 4,
 "nbformat_minor": 2
}
