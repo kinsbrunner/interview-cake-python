{
 "cells": [
  {
   "cell_type": "code",
   "execution_count": 102,
   "metadata": {},
   "outputs": [
    {
     "name": "stdout",
     "output_type": "stream",
     "text": [
      "[(0, 1), (3, 8), (9, 12)]\n",
      "[(1, 5)]\n",
      "[(1, 10)]\n",
      "[(1, 4)]\n"
     ]
    }
   ],
   "source": [
    "def merge_ranges(existing_meetings):\n",
    "    condensed_ranges = []\n",
    "\n",
    "    existing_meetings.sort(key=lambda tup: tup[0])\n",
    "\n",
    "    condensed_ranges.append(existing_meetings[0])\n",
    "\n",
    "    for range in existing_meetings[1:]:\n",
    "        if is_overlap(condensed_ranges[-1], range):\n",
    "            condensed_ranges[-1] = condense(condensed_ranges[-1], range)\n",
    "        else:\n",
    "            condensed_ranges.append(range)\n",
    "\n",
    "    print(condensed_ranges)\n",
    "\n",
    "def is_overlap(time_1, time_2):\n",
    "    #If start of 2nd is earlier than end of previous (we already know that start of 1st is at least same as 2nd as it is sorted)\n",
    "    if time_2[0] <= time_1[1]: \n",
    "        return True\n",
    "    else:\n",
    "        return False\n",
    "\n",
    "\"\"\" Replaced by simple version as Start are sorted\n",
    "def is_overlap(time_1, time_2):\n",
    "    if ( time_1[0] <= time_2[0] <= time_1[1] or\n",
    "       time_1[0] <= time_2[1] <= time_1[1] or\n",
    "       time_1[0] == time_2[0] ): \n",
    "        return True\n",
    "    else:\n",
    "        return False\n",
    "\"\"\"\n",
    "\n",
    "def condense(time_1, time_2):\n",
    "    return (min(time_1[0], time_2[0]), max(time_1[1], time_2[1]))\n",
    "\n",
    "\"\"\" Replaced by non-manual solution\n",
    "def condense_old(time_1, time_2):\n",
    "    lower_val = None\n",
    "    upper_val = None\n",
    "    if is_overlap(time_1, time_2):\n",
    "        if time_1[0] <= time_2[0]:\n",
    "            lower_val = time_1[0]\n",
    "        else:\n",
    "            lower_val = time_2[0]\n",
    "\n",
    "        if time_1[1] >= time_2[1]:\n",
    "            upper_val = time_1[1]\n",
    "        else:\n",
    "            upper_val = time_2[1]\n",
    "\n",
    "    return (lower_val, upper_val) \n",
    "\"\"\"\n",
    "\n",
    "merge_ranges([(7, 8), (4, 8), (3, 5), (10, 12), (0, 1),  (9, 10) ]) # expected [(0, 1), (3, 8), (9, 12)]\n",
    "merge_ranges([(1, 5), (2, 3)]) # expected [(1, 5)]\n",
    "merge_ranges([(1, 10), (2, 6), (3, 5), (7, 9)]) # expected [(1, 10)]\n",
    "merge_ranges([(1, 3), (2, 4)]) # expected [(1, 4)]"
   ]
  }
 ],
 "metadata": {
  "interpreter": {
   "hash": "aee8b7b246df8f9039afb4144a1f6fd8d2ca17a180786b69acc140d282b71a49"
  },
  "kernelspec": {
   "display_name": "Python 3.10.4 64-bit",
   "language": "python",
   "name": "python3"
  },
  "language_info": {
   "codemirror_mode": {
    "name": "ipython",
    "version": 3
   },
   "file_extension": ".py",
   "mimetype": "text/x-python",
   "name": "python",
   "nbconvert_exporter": "python",
   "pygments_lexer": "ipython3",
   "version": "3.10.4"
  },
  "orig_nbformat": 4
 },
 "nbformat": 4,
 "nbformat_minor": 2
}
